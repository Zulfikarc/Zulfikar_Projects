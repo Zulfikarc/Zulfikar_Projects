{
 "cells": [
  {
   "cell_type": "code",
   "execution_count": 3,
   "id": "422bd137",
   "metadata": {},
   "outputs": [
    {
     "name": "stdout",
     "output_type": "stream",
     "text": [
      "Requirement already satisfied: pandas in c:\\users\\zulfikar\\appdata\\local\\programs\\python\\python311\\lib\\site-packages (2.1.3)\n",
      "Requirement already satisfied: numpy<2,>=1.23.2 in c:\\users\\zulfikar\\appdata\\local\\programs\\python\\python311\\lib\\site-packages (from pandas) (1.26.2)\n",
      "Requirement already satisfied: python-dateutil>=2.8.2 in c:\\users\\zulfikar\\appdata\\local\\programs\\python\\python311\\lib\\site-packages (from pandas) (2.8.2)\n",
      "Requirement already satisfied: pytz>=2020.1 in c:\\users\\zulfikar\\appdata\\local\\programs\\python\\python311\\lib\\site-packages (from pandas) (2023.3.post1)\n",
      "Requirement already satisfied: tzdata>=2022.1 in c:\\users\\zulfikar\\appdata\\local\\programs\\python\\python311\\lib\\site-packages (from pandas) (2023.3)\n",
      "Requirement already satisfied: six>=1.5 in c:\\users\\zulfikar\\appdata\\local\\programs\\python\\python311\\lib\\site-packages (from python-dateutil>=2.8.2->pandas) (1.16.0)\n"
     ]
    },
    {
     "name": "stderr",
     "output_type": "stream",
     "text": [
      "\n",
      "[notice] A new release of pip is available: 23.2.1 -> 23.3.2\n",
      "[notice] To update, run: python.exe -m pip install --upgrade pip\n"
     ]
    }
   ],
   "source": [
    "!pip install pandas"
   ]
  },
  {
   "cell_type": "code",
   "execution_count": 4,
   "id": "f6c81937",
   "metadata": {},
   "outputs": [],
   "source": [
    "import pandas as pd"
   ]
  },
  {
   "cell_type": "code",
   "execution_count": 3,
   "id": "08bb6edb",
   "metadata": {},
   "outputs": [],
   "source": [
    "import numpy as np"
   ]
  },
  {
   "cell_type": "code",
   "execution_count": 4,
   "id": "5b175793",
   "metadata": {},
   "outputs": [
    {
     "name": "stdout",
     "output_type": "stream",
     "text": [
      "Requirement already satisfied: numpy in c:\\users\\zulfikar\\appdata\\local\\programs\\python\\python311\\lib\\site-packages (1.26.2)"
     ]
    },
    {
     "name": "stderr",
     "output_type": "stream",
     "text": [
      "\n",
      "[notice] A new release of pip is available: 23.2.1 -> 23.3.2\n",
      "[notice] To update, run: python.exe -m pip install --upgrade pip\n"
     ]
    },
    {
     "name": "stdout",
     "output_type": "stream",
     "text": [
      "\n"
     ]
    }
   ],
   "source": [
    "!pip install numpy"
   ]
  },
  {
   "cell_type": "code",
   "execution_count": 5,
   "id": "ea68ae4d",
   "metadata": {},
   "outputs": [],
   "source": [
    "import numpy as np"
   ]
  },
  {
   "cell_type": "code",
   "execution_count": 52,
   "id": "c6af1e4b",
   "metadata": {},
   "outputs": [
    {
     "data": {
      "text/plain": [
       "'d:\\\\Data_Science_Internship\\\\Project1final'"
      ]
     },
     "execution_count": 52,
     "metadata": {},
     "output_type": "execute_result"
    }
   ],
   "source": [
    "pwd"
   ]
  },
  {
   "cell_type": "code",
   "execution_count": 53,
   "id": "221041f9",
   "metadata": {},
   "outputs": [
    {
     "data": {
      "text/plain": [
       "'d:\\\\Data_Science_Internship\\\\Project1final'"
      ]
     },
     "execution_count": 53,
     "metadata": {},
     "output_type": "execute_result"
    }
   ],
   "source": [
    "pwd"
   ]
  },
  {
   "cell_type": "code",
   "execution_count": 8,
   "metadata": {},
   "outputs": [],
   "source": [
    "#read the dataset_1\n",
    "dataset_1 = pd.read_csv('dataset_1.csv')\n"
   ]
  },
  {
   "cell_type": "markdown",
   "metadata": {},
   "source": []
  },
  {
   "cell_type": "code",
   "execution_count": 29,
   "metadata": {},
   "outputs": [
    {
     "data": {
      "text/html": [
       "<div>\n",
       "<style scoped>\n",
       "    .dataframe tbody tr th:only-of-type {\n",
       "        vertical-align: middle;\n",
       "    }\n",
       "\n",
       "    .dataframe tbody tr th {\n",
       "        vertical-align: top;\n",
       "    }\n",
       "\n",
       "    .dataframe thead th {\n",
       "        text-align: right;\n",
       "    }\n",
       "</style>\n",
       "<table border=\"1\" class=\"dataframe\">\n",
       "  <thead>\n",
       "    <tr style=\"text-align: right;\">\n",
       "      <th></th>\n",
       "      <th>instant</th>\n",
       "      <th>dteday</th>\n",
       "      <th>season</th>\n",
       "      <th>yr</th>\n",
       "      <th>mnth</th>\n",
       "      <th>hr</th>\n",
       "      <th>holiday</th>\n",
       "      <th>weekday</th>\n",
       "      <th>weathersit</th>\n",
       "      <th>temp</th>\n",
       "    </tr>\n",
       "  </thead>\n",
       "  <tbody>\n",
       "    <tr>\n",
       "      <th>0</th>\n",
       "      <td>1</td>\n",
       "      <td>01-01-2011</td>\n",
       "      <td>1</td>\n",
       "      <td>0</td>\n",
       "      <td>1</td>\n",
       "      <td>0</td>\n",
       "      <td>False</td>\n",
       "      <td>6</td>\n",
       "      <td>1</td>\n",
       "      <td>0.24</td>\n",
       "    </tr>\n",
       "    <tr>\n",
       "      <th>1</th>\n",
       "      <td>2</td>\n",
       "      <td>01-01-2011</td>\n",
       "      <td>1</td>\n",
       "      <td>0</td>\n",
       "      <td>1</td>\n",
       "      <td>1</td>\n",
       "      <td>False</td>\n",
       "      <td>6</td>\n",
       "      <td>1</td>\n",
       "      <td>0.22</td>\n",
       "    </tr>\n",
       "    <tr>\n",
       "      <th>2</th>\n",
       "      <td>3</td>\n",
       "      <td>01-01-2011</td>\n",
       "      <td>1</td>\n",
       "      <td>0</td>\n",
       "      <td>1</td>\n",
       "      <td>2</td>\n",
       "      <td>False</td>\n",
       "      <td>6</td>\n",
       "      <td>1</td>\n",
       "      <td>0.22</td>\n",
       "    </tr>\n",
       "    <tr>\n",
       "      <th>3</th>\n",
       "      <td>4</td>\n",
       "      <td>01-01-2011</td>\n",
       "      <td>1</td>\n",
       "      <td>0</td>\n",
       "      <td>1</td>\n",
       "      <td>3</td>\n",
       "      <td>False</td>\n",
       "      <td>6</td>\n",
       "      <td>1</td>\n",
       "      <td>0.24</td>\n",
       "    </tr>\n",
       "    <tr>\n",
       "      <th>4</th>\n",
       "      <td>5</td>\n",
       "      <td>01-01-2011</td>\n",
       "      <td>1</td>\n",
       "      <td>0</td>\n",
       "      <td>1</td>\n",
       "      <td>4</td>\n",
       "      <td>False</td>\n",
       "      <td>6</td>\n",
       "      <td>1</td>\n",
       "      <td>0.24</td>\n",
       "    </tr>\n",
       "  </tbody>\n",
       "</table>\n",
       "</div>"
      ],
      "text/plain": [
       "   instant      dteday  season  yr  mnth  hr  holiday  weekday  weathersit  \\\n",
       "0        1  01-01-2011       1   0     1   0    False        6           1   \n",
       "1        2  01-01-2011       1   0     1   1    False        6           1   \n",
       "2        3  01-01-2011       1   0     1   2    False        6           1   \n",
       "3        4  01-01-2011       1   0     1   3    False        6           1   \n",
       "4        5  01-01-2011       1   0     1   4    False        6           1   \n",
       "\n",
       "   temp  \n",
       "0  0.24  \n",
       "1  0.22  \n",
       "2  0.22  \n",
       "3  0.24  \n",
       "4  0.24  "
      ]
     },
     "execution_count": 29,
     "metadata": {},
     "output_type": "execute_result"
    }
   ],
   "source": [
    "\n",
    "# check the headings dataset one\n",
    "dataset_1.head()"
   ]
  },
  {
   "cell_type": "code",
   "execution_count": 43,
   "metadata": {},
   "outputs": [
    {
     "data": {
      "text/plain": [
       "instant       0\n",
       "dteday        0\n",
       "season        0\n",
       "yr            0\n",
       "mnth          0\n",
       "hr            0\n",
       "holiday       0\n",
       "weekday       0\n",
       "weathersit    0\n",
       "temp          0\n",
       "dtype: int64"
      ]
     },
     "execution_count": 43,
     "metadata": {},
     "output_type": "execute_result"
    }
   ],
   "source": [
    "#identify the null values\n",
    "dataset_1.isnull().sum()"
   ]
  },
  {
   "cell_type": "code",
   "execution_count": 44,
   "metadata": {},
   "outputs": [],
   "source": [
    "#get the number of rows and columns in the dataset\n",
    "num_rows, num_cols = dataset_1.shape"
   ]
  },
  {
   "cell_type": "code",
   "execution_count": 45,
   "metadata": {},
   "outputs": [
    {
     "name": "stdout",
     "output_type": "stream",
     "text": [
      "Number of rows: 610\n",
      "Number of columns: 10\n"
     ]
    }
   ],
   "source": [
    "#Print the number of rows and columns\n",
    "print(f\"Number of rows: {num_rows}\")\n",
    "print(f\"Number of columns: {num_cols}\")"
   ]
  },
  {
   "cell_type": "code",
   "execution_count": 9,
   "metadata": {},
   "outputs": [],
   "source": [
    "import pandas as pd\n",
    "#read dataset_2\n",
    "dateset_2 = pd.read_csv('dataset_2.csv')"
   ]
  },
  {
   "cell_type": "code",
   "execution_count": 23,
   "metadata": {},
   "outputs": [
    {
     "data": {
      "text/html": [
       "<div>\n",
       "<style scoped>\n",
       "    .dataframe tbody tr th:only-of-type {\n",
       "        vertical-align: middle;\n",
       "    }\n",
       "\n",
       "    .dataframe tbody tr th {\n",
       "        vertical-align: top;\n",
       "    }\n",
       "\n",
       "    .dataframe thead th {\n",
       "        text-align: right;\n",
       "    }\n",
       "</style>\n",
       "<table border=\"1\" class=\"dataframe\">\n",
       "  <thead>\n",
       "    <tr style=\"text-align: right;\">\n",
       "      <th></th>\n",
       "      <th>Unnamed: 0</th>\n",
       "      <th>instant</th>\n",
       "      <th>atemp</th>\n",
       "      <th>hum</th>\n",
       "      <th>windspeed</th>\n",
       "      <th>casual</th>\n",
       "      <th>registered</th>\n",
       "      <th>cnt</th>\n",
       "    </tr>\n",
       "  </thead>\n",
       "  <tbody>\n",
       "    <tr>\n",
       "      <th>0</th>\n",
       "      <td>0</td>\n",
       "      <td>1</td>\n",
       "      <td>0.2879</td>\n",
       "      <td>0.81</td>\n",
       "      <td>0.0</td>\n",
       "      <td>3</td>\n",
       "      <td>13</td>\n",
       "      <td>16</td>\n",
       "    </tr>\n",
       "    <tr>\n",
       "      <th>1</th>\n",
       "      <td>1</td>\n",
       "      <td>2</td>\n",
       "      <td>0.2727</td>\n",
       "      <td>0.80</td>\n",
       "      <td>0.0</td>\n",
       "      <td>8</td>\n",
       "      <td>32</td>\n",
       "      <td>40</td>\n",
       "    </tr>\n",
       "    <tr>\n",
       "      <th>2</th>\n",
       "      <td>2</td>\n",
       "      <td>3</td>\n",
       "      <td>0.2727</td>\n",
       "      <td>0.80</td>\n",
       "      <td>0.0</td>\n",
       "      <td>5</td>\n",
       "      <td>27</td>\n",
       "      <td>32</td>\n",
       "    </tr>\n",
       "    <tr>\n",
       "      <th>3</th>\n",
       "      <td>3</td>\n",
       "      <td>4</td>\n",
       "      <td>0.2879</td>\n",
       "      <td>0.75</td>\n",
       "      <td>0.0</td>\n",
       "      <td>3</td>\n",
       "      <td>10</td>\n",
       "      <td>13</td>\n",
       "    </tr>\n",
       "    <tr>\n",
       "      <th>4</th>\n",
       "      <td>4</td>\n",
       "      <td>5</td>\n",
       "      <td>0.2879</td>\n",
       "      <td>0.75</td>\n",
       "      <td>0.0</td>\n",
       "      <td>0</td>\n",
       "      <td>1</td>\n",
       "      <td>1</td>\n",
       "    </tr>\n",
       "  </tbody>\n",
       "</table>\n",
       "</div>"
      ],
      "text/plain": [
       "   Unnamed: 0  instant   atemp   hum  windspeed  casual  registered  cnt\n",
       "0           0        1  0.2879  0.81        0.0       3          13   16\n",
       "1           1        2  0.2727  0.80        0.0       8          32   40\n",
       "2           2        3  0.2727  0.80        0.0       5          27   32\n",
       "3           3        4  0.2879  0.75        0.0       3          10   13\n",
       "4           4        5  0.2879  0.75        0.0       0           1    1"
      ]
     },
     "execution_count": 23,
     "metadata": {},
     "output_type": "execute_result"
    }
   ],
   "source": [
    "# check the headings dataset_2\n",
    "dateset_2.head()"
   ]
  },
  {
   "cell_type": "code",
   "execution_count": 24,
   "metadata": {},
   "outputs": [
    {
     "data": {
      "text/plain": [
       "Unnamed: 0     0\n",
       "instant        0\n",
       "atemp         11\n",
       "hum            0\n",
       "windspeed      0\n",
       "casual         0\n",
       "registered     0\n",
       "cnt            0\n",
       "dtype: int64"
      ]
     },
     "execution_count": 24,
     "metadata": {},
     "output_type": "execute_result"
    }
   ],
   "source": [
    "#identify the nul values in dataset_2\n",
    "dateset_2.isnull().sum()"
   ]
  },
  {
   "cell_type": "code",
   "execution_count": 35,
   "metadata": {},
   "outputs": [],
   "source": [
    "#get the number of rows and columns in the dataset_2\n",
    "num_rows, num_cols = dateset_2.shape"
   ]
  },
  {
   "cell_type": "code",
   "execution_count": 37,
   "metadata": {},
   "outputs": [
    {
     "name": "stdout",
     "output_type": "stream",
     "text": [
      "Number of rows: 610\n",
      "Number of columns: 8\n"
     ]
    }
   ],
   "source": [
    "#Print the number of rows and columns of dataset_2\n",
    "print(f\"Number of rows: {num_rows}\")\n",
    "print(f\"Number of columns: {num_cols}\")"
   ]
  },
  {
   "cell_type": "code",
   "execution_count": 10,
   "metadata": {},
   "outputs": [],
   "source": [
    "#Merge dataset_1 and dataset_2\n",
    "output_dataset = pd.merge(dataset_1, dateset_2, on= 'instant', how= 'inner')"
   ]
  },
  {
   "cell_type": "code",
   "execution_count": 39,
   "metadata": {},
   "outputs": [
    {
     "data": {
      "text/html": [
       "<div>\n",
       "<style scoped>\n",
       "    .dataframe tbody tr th:only-of-type {\n",
       "        vertical-align: middle;\n",
       "    }\n",
       "\n",
       "    .dataframe tbody tr th {\n",
       "        vertical-align: top;\n",
       "    }\n",
       "\n",
       "    .dataframe thead th {\n",
       "        text-align: right;\n",
       "    }\n",
       "</style>\n",
       "<table border=\"1\" class=\"dataframe\">\n",
       "  <thead>\n",
       "    <tr style=\"text-align: right;\">\n",
       "      <th></th>\n",
       "      <th>instant</th>\n",
       "      <th>dteday</th>\n",
       "      <th>season</th>\n",
       "      <th>yr</th>\n",
       "      <th>mnth</th>\n",
       "      <th>hr</th>\n",
       "      <th>holiday</th>\n",
       "      <th>weekday</th>\n",
       "      <th>weathersit</th>\n",
       "      <th>temp</th>\n",
       "      <th>Unnamed: 0</th>\n",
       "      <th>atemp</th>\n",
       "      <th>hum</th>\n",
       "      <th>windspeed</th>\n",
       "      <th>casual</th>\n",
       "      <th>registered</th>\n",
       "      <th>cnt</th>\n",
       "    </tr>\n",
       "  </thead>\n",
       "  <tbody>\n",
       "    <tr>\n",
       "      <th>0</th>\n",
       "      <td>1</td>\n",
       "      <td>01-01-2011</td>\n",
       "      <td>1</td>\n",
       "      <td>0</td>\n",
       "      <td>1</td>\n",
       "      <td>0</td>\n",
       "      <td>False</td>\n",
       "      <td>6</td>\n",
       "      <td>1</td>\n",
       "      <td>0.24</td>\n",
       "      <td>0</td>\n",
       "      <td>0.2879</td>\n",
       "      <td>0.81</td>\n",
       "      <td>0.0</td>\n",
       "      <td>3</td>\n",
       "      <td>13</td>\n",
       "      <td>16</td>\n",
       "    </tr>\n",
       "    <tr>\n",
       "      <th>1</th>\n",
       "      <td>2</td>\n",
       "      <td>01-01-2011</td>\n",
       "      <td>1</td>\n",
       "      <td>0</td>\n",
       "      <td>1</td>\n",
       "      <td>1</td>\n",
       "      <td>False</td>\n",
       "      <td>6</td>\n",
       "      <td>1</td>\n",
       "      <td>0.22</td>\n",
       "      <td>1</td>\n",
       "      <td>0.2727</td>\n",
       "      <td>0.80</td>\n",
       "      <td>0.0</td>\n",
       "      <td>8</td>\n",
       "      <td>32</td>\n",
       "      <td>40</td>\n",
       "    </tr>\n",
       "    <tr>\n",
       "      <th>2</th>\n",
       "      <td>3</td>\n",
       "      <td>01-01-2011</td>\n",
       "      <td>1</td>\n",
       "      <td>0</td>\n",
       "      <td>1</td>\n",
       "      <td>2</td>\n",
       "      <td>False</td>\n",
       "      <td>6</td>\n",
       "      <td>1</td>\n",
       "      <td>0.22</td>\n",
       "      <td>2</td>\n",
       "      <td>0.2727</td>\n",
       "      <td>0.80</td>\n",
       "      <td>0.0</td>\n",
       "      <td>5</td>\n",
       "      <td>27</td>\n",
       "      <td>32</td>\n",
       "    </tr>\n",
       "    <tr>\n",
       "      <th>3</th>\n",
       "      <td>4</td>\n",
       "      <td>01-01-2011</td>\n",
       "      <td>1</td>\n",
       "      <td>0</td>\n",
       "      <td>1</td>\n",
       "      <td>3</td>\n",
       "      <td>False</td>\n",
       "      <td>6</td>\n",
       "      <td>1</td>\n",
       "      <td>0.24</td>\n",
       "      <td>3</td>\n",
       "      <td>0.2879</td>\n",
       "      <td>0.75</td>\n",
       "      <td>0.0</td>\n",
       "      <td>3</td>\n",
       "      <td>10</td>\n",
       "      <td>13</td>\n",
       "    </tr>\n",
       "    <tr>\n",
       "      <th>4</th>\n",
       "      <td>5</td>\n",
       "      <td>01-01-2011</td>\n",
       "      <td>1</td>\n",
       "      <td>0</td>\n",
       "      <td>1</td>\n",
       "      <td>4</td>\n",
       "      <td>False</td>\n",
       "      <td>6</td>\n",
       "      <td>1</td>\n",
       "      <td>0.24</td>\n",
       "      <td>4</td>\n",
       "      <td>0.2879</td>\n",
       "      <td>0.75</td>\n",
       "      <td>0.0</td>\n",
       "      <td>0</td>\n",
       "      <td>1</td>\n",
       "      <td>1</td>\n",
       "    </tr>\n",
       "  </tbody>\n",
       "</table>\n",
       "</div>"
      ],
      "text/plain": [
       "   instant      dteday  season  yr  mnth  hr  holiday  weekday  weathersit  \\\n",
       "0        1  01-01-2011       1   0     1   0    False        6           1   \n",
       "1        2  01-01-2011       1   0     1   1    False        6           1   \n",
       "2        3  01-01-2011       1   0     1   2    False        6           1   \n",
       "3        4  01-01-2011       1   0     1   3    False        6           1   \n",
       "4        5  01-01-2011       1   0     1   4    False        6           1   \n",
       "\n",
       "   temp  Unnamed: 0   atemp   hum  windspeed  casual  registered  cnt  \n",
       "0  0.24           0  0.2879  0.81        0.0       3          13   16  \n",
       "1  0.22           1  0.2727  0.80        0.0       8          32   40  \n",
       "2  0.22           2  0.2727  0.80        0.0       5          27   32  \n",
       "3  0.24           3  0.2879  0.75        0.0       3          10   13  \n",
       "4  0.24           4  0.2879  0.75        0.0       0           1    1  "
      ]
     },
     "execution_count": 39,
     "metadata": {},
     "output_type": "execute_result"
    }
   ],
   "source": [
    "#Print head of merged dataset\n",
    "output_dataset.head()"
   ]
  },
  {
   "cell_type": "code",
   "execution_count": 31,
   "metadata": {},
   "outputs": [
    {
     "name": "stdout",
     "output_type": "stream",
     "text": [
      "unique values in column 'instant' :\n",
      "[  1   2   3   4   5   6   7   8   9  10  11  12  13  14  15  16  17  18\n",
      "  19  20  21  22  23  24  25  26  27  28  29  30  31  32  33  34  35  36\n",
      "  37  38  39  40  41  42  43  44  45  46  47  48  49  50  51  52  53  54\n",
      "  55  56  57  58  59  60  61  62  63  64  65  66  67  68  69  70  71  72\n",
      "  73  74  75  76  77  78  79  80  81  82  83  84  85  86  87  88  89  90\n",
      "  91  92  93  94  95  96  97  98  99 100 101 102 103 104 105 106 107 108\n",
      " 109 110 111 112 113 114 115 116 117 118 119 120 121 122 123 124 125 126\n",
      " 127 128 129 130 131 132 133 134 135 136 137 138 139 140 141 142 143 144\n",
      " 145 146 147 148 149 150 151 152 153 154 155 156 157 158 159 160 161 162\n",
      " 163 164 165 166 167 168 169 170 171 172 173 174 175 176 177 178 179 180\n",
      " 181 182 183 184 185 186 187 188 189 190 191 192 193 194 195 196 197 198\n",
      " 199 200 201 202 203 204 205 206 207 208 209 210 211 212 213 214 215 216\n",
      " 217 218 219 220 221 222 223 224 225 226 227 228 229 230 231 232 233 234\n",
      " 235 236 237 238 239 240 241 242 243 244 245 246 247 248 249 250 251 252\n",
      " 253 254 255 256 257 258 259 260 261 262 263 264 265 266 267 268 269 270\n",
      " 271 272 273 274 275 276 277 278 279 280 281 282 283 284 285 286 287 288\n",
      " 289 290 291 292 293 294 295 296 297 298 299 300 301 302 303 304 305 306\n",
      " 307 308 309 310 311 312 313 314 315 316 317 318 319 320 321 322 323 324\n",
      " 325 326 327 328 329 330 331 332 333 334 335 336 337 338 339 340 341 342\n",
      " 343 344 345 346 347 348 349 350 351 352 353 354 355 356 357 358 359 360\n",
      " 361 362 363 364 365 366 367 368 369 370 371 372 373 374 375 376 377 378\n",
      " 379 380 381 382 383 384 385 386 387 388 389 390 391 392 393 394 395 396\n",
      " 397 398 399 400 401 402 403 404 405 406 407 408 409 410 411 412 413 414\n",
      " 415 416 417 418 419 420 421 422 423 424 425 426 427 428 429 430 431 432\n",
      " 433 434 435 436 437 438 439 440 441 442 443 444 445 446 447 448 449 450\n",
      " 451 452 453 454 455 456 457 458 459 460 461 462 463 464 465 466 467 468\n",
      " 469 470 471 472 473 474 475 476 477 478 479 480 481 482 483 484 485 486\n",
      " 487 488 489 490 491 492 493 494 495 496 497 498 499 500 501 502 503 504\n",
      " 505 506 507 508 509 510 511 512 513 514 515 516 517 518 519 520 521 522\n",
      " 523 524 525 526 527 528 529 530 531 532 533 534 535 536 537 538 539 540\n",
      " 541 542 543 544 545 546 547 548 549 550 551 552 553 554 555 556 557 558\n",
      " 559 560 561 562 563 564 565 566 567 568 569 570 571 572 573 574 575 576\n",
      " 577 578 579 580 581 582 583 584 585 586 587 588 589 590 591 592 593 594\n",
      " 595 596 597 598 599 600 601 602 603 604 605 606 607 608 609 610]\n",
      "\n",
      "unique values in column 'dteday' :\n",
      "['01-01-2011' '02-01-2011' '03-01-2011' '04-01-2011' '05-01-2011'\n",
      " '06-01-2011' '07-01-2011' '08-01-2011' '09-01-2011' '10-01-2011'\n",
      " '11-01-2011' '12-01-2011' '13-01-2011' '14-01-2011' '15-01-2011'\n",
      " '16-01-2011' '17-01-2011' '18-01-2011' '19-01-2011' '20-01-2011'\n",
      " '21-01-2011' '22-01-2011' '23-01-2011' '24-01-2011' '25-01-2011'\n",
      " '26-01-2011' '27-01-2011' '28-01-2011']\n",
      "\n",
      "unique values in column 'season' :\n",
      "[1]\n",
      "\n",
      "unique values in column 'yr' :\n",
      "[0]\n",
      "\n",
      "unique values in column 'mnth' :\n",
      "[1]\n",
      "\n",
      "unique values in column 'hr' :\n",
      "[ 0  1  2  3  4  5  6  7  8  9 10 11 12 13 14 15 16 17 18 19 20 21 22 23]\n",
      "\n",
      "unique values in column 'holiday' :\n",
      "[False  True]\n",
      "\n",
      "unique values in column 'weekday' :\n",
      "[6 0 1 2 3 4 5]\n",
      "\n",
      "unique values in column 'weathersit' :\n",
      "[1 2 3 4]\n",
      "\n",
      "unique values in column 'temp' :\n",
      "[0.24 0.22 0.2  0.32 0.38 0.36 0.42 0.46 0.44 0.4  0.34 0.3  0.26 0.16\n",
      " 0.14 0.18 0.12 0.28 0.1  0.08 0.06 0.04 0.02]\n",
      "\n",
      "unique values in column 'Unnamed: 0' :\n",
      "[  0   1   2   3   4   5   6   7   8   9  10  11  12  13  14  15  16  17\n",
      "  18  19  20  21  22  23  24  25  26  27  28  29  30  31  32  33  34  35\n",
      "  36  37  38  39  40  41  42  43  44  45  46  47  48  49  50  51  52  53\n",
      "  54  55  56  57  58  59  60  61  62  63  64  65  66  67  68  69  70  71\n",
      "  72  73  74  75  76  77  78  79  80  81  82  83  84  85  86  87  88  89\n",
      "  90  91  92  93  94  95  96  97  98  99 100 101 102 103 104 105 106 107\n",
      " 108 109 110 111 112 113 114 115 116 117 118 119 120 121 122 123 124 125\n",
      " 126 127 128 129 130 131 132 133 134 135 136 137 138 139 140 141 142 143\n",
      " 144 145 146 147 148 149 150 151 152 153 154 155 156 157 158 159 160 161\n",
      " 162 163 164 165 166 167 168 169 170 171 172 173 174 175 176 177 178 179\n",
      " 180 181 182 183 184 185 186 187 188 189 190 191 192 193 194 195 196 197\n",
      " 198 199 200 201 202 203 204 205 206 207 208 209 210 211 212 213 214 215\n",
      " 216 217 218 219 220 221 222 223 224 225 226 227 228 229 230 231 232 233\n",
      " 234 235 236 237 238 239 240 241 242 243 244 245 246 247 248 249 250 251\n",
      " 252 253 254 255 256 257 258 259 260 261 262 263 264 265 266 267 268 269\n",
      " 270 271 272 273 274 275 276 277 278 279 280 281 282 283 284 285 286 287\n",
      " 288 289 290 291 292 293 294 295 296 297 298 299 300 301 302 303 304 305\n",
      " 306 307 308 309 310 311 312 313 314 315 316 317 318 319 320 321 322 323\n",
      " 324 325 326 327 328 329 330 331 332 333 334 335 336 337 338 339 340 341\n",
      " 342 343 344 345 346 347 348 349 350 351 352 353 354 355 356 357 358 359\n",
      " 360 361 362 363 364 365 366 367 368 369 370 371 372 373 374 375 376 377\n",
      " 378 379 380 381 382 383 384 385 386 387 388 389 390 391 392 393 394 395\n",
      " 396 397 398 399 400 401 402 403 404 405 406 407 408 409 410 411 412 413\n",
      " 414 415 416 417 418 419 420 421 422 423 424 425 426 427 428 429 430 431\n",
      " 432 433 434 435 436 437 438 439 440 441 442 443 444 445 446 447 448 449\n",
      " 450 451 452 453 454 455 456 457 458 459 460 461 462 463 464 465 466 467\n",
      " 468 469 470 471 472 473 474 475 476 477 478 479 480 481 482 483 484 485\n",
      " 486 487 488 489 490 491 492 493 494 495 496 497 498 499 500 501 502 503\n",
      " 504 505 506 507 508 509 510 511 512 513 514 515 516 517 518 519 520 521\n",
      " 522 523 524 525 526 527 528 529 530 531 532 533 534 535 536 537 538 539\n",
      " 540 541 542 543 544 545 546 547 548 549 550 551 552 553 554 555 556 557\n",
      " 558 559 560 561 562 563 564 565 566 567 568 569 570 571 572 573 574 575\n",
      " 576 577 578 579 580 581 582 583 584 585 586 587 588 589 590 591 592 593\n",
      " 594 595 596 597 598 599 600 601 602 603 604 605 606 607 608 609]\n",
      "\n",
      "unique values in column 'atemp' :\n",
      "[0.2879 0.2727 0.2576    nan 0.3485 0.3939 0.3333 0.4242 0.4545 0.4394\n",
      " 0.4091 0.2273 0.2121 0.197  0.1364 0.1061 0.1212 0.1667 0.1818 0.2424\n",
      " 0.1515 0.3182 0.0606 0.0758 0.0909 0.303  0.0303 0.0455 0.     0.0152]\n",
      "\n",
      "unique values in column 'hum' :\n",
      "[0.81 0.8  0.75 0.86 0.76 0.77 0.72 0.82 0.88 0.87 0.94 1.   0.71 0.66\n",
      " 0.57 0.46 0.42 0.39 0.44 0.47 0.5  0.43 0.4  0.35 0.3  0.32 0.64 0.69\n",
      " 0.55 0.59 0.63 0.68 0.74 0.51 0.56 0.52 0.49 0.48 0.37 0.33 0.28 0.38\n",
      " 0.36 0.93 0.29 0.53 0.34 0.54 0.41 0.45 0.92 0.62 0.58 0.61 0.6  0.65\n",
      " 0.7  0.27 0.21 0.25 0.26]\n",
      "\n",
      "unique values in column 'windspeed' :\n",
      "[0.     0.0896 0.2537 0.2836 0.2985 0.194  0.2239 0.1343 0.1642 0.3284\n",
      " 0.4478 0.3582 0.4179 0.3881 0.1045 0.4925 0.5522 0.4627 0.5224 0.5821]\n",
      "\n",
      "unique values in column 'casual' :\n",
      "[ 3  8  5  0  2  1 12 26 29 47 35 40 41 15  9  6 11  4  7 16 20 19 10 13\n",
      " 14 18 17 21 33 23 22 24]\n",
      "\n",
      "unique values in column 'registered' :\n",
      "[ 13  32  27  10   1   0   2   7   6  24  30  55  47  71  70  52  26  31\n",
      "  25  17  16   8   4  19  46  54  73  64  67  58  43  29  20   9   5   3\n",
      "  63 153  81  33  41  48  53  66 146 148 102  49  11  36  92 177  98  37\n",
      "  50  79  68 202 179 110  34  87 192 109  74  65  85 186 166 127  82  40\n",
      "  18  95 216 116  42  57  78  59 163 158  51  76 190 125 178  39  14  15\n",
      "  56  60  90  83  69  28  35  22  12  77  44  38  75 184 174 154  97 214\n",
      "  45  72 130  94 139 135 197 137 141 156 117 155 134  89  80 108  61 124\n",
      " 132 196 107 100 247 140  86  62 207 210 159 151 119  93  23 171 145 101\n",
      "  21 103 233 208 218 133]\n",
      "\n",
      "unique values in column 'cnt' :\n",
      "[ 16  40  32  13   1   2   3   8  14  36  56  84  94 106 110  93  67  35\n",
      "  37  34  28  39  17   9   6  20  53  70  75  59  74  76  65  30  22  31\n",
      "   5  64 154  88  44  51  61  77  72 157  52  12   4 179 100  42  57  78\n",
      "  97  63  83 212 182 112  54  48  11  33 195 115  46  79  71  62  89 190\n",
      " 169 132  43  19  95 219 122  45  86 172 163  69  23   7 210 134  73  50\n",
      "  87 187 123  15  25  98 102  55  10  49  82  92  41  38 188  47 178 155\n",
      "  24  18  27  99 217 130 136  29 128  81  68 139 137 202  60 162 144 158\n",
      " 117  90 159 101 118 129  26 104  91 113 105  21  80 125 133 197 109 161\n",
      " 249 143 215 185 152 126 166 120  96 103  58 116 177 184 153 108 238 222\n",
      " 225 146 119]\n",
      "\n"
     ]
    }
   ],
   "source": [
    "#display the unique values of the merged dataset\n",
    "for column in output_dataset.columns:\n",
    "    unique_values = output_dataset[column].unique()\n",
    "    print(f\"unique values in column '{column}' :\")\n",
    "    print(unique_values)\n",
    "    print()"
   ]
  },
  {
   "cell_type": "code",
   "execution_count": 49,
   "metadata": {},
   "outputs": [],
   "source": [
    "#drop the unnecessary columns\n",
    "columns_to_drop = ['instant', 'dteday', 'Unnamed: 0', 'casual', 'registered']\n",
    "output_dataset.drop(columns=columns_to_drop, inplace=True)"
   ]
  },
  {
   "cell_type": "code",
   "execution_count": 41,
   "metadata": {},
   "outputs": [
    {
     "name": "stdout",
     "output_type": "stream",
     "text": [
      "   instant      dteday  season  yr  mnth  hr  holiday  weekday  weathersit  \\\n",
      "0        1  01-01-2011       1   0     1   0    False        6           1   \n",
      "1        2  01-01-2011       1   0     1   1    False        6           1   \n",
      "2        3  01-01-2011       1   0     1   2    False        6           1   \n",
      "3        4  01-01-2011       1   0     1   3    False        6           1   \n",
      "4        5  01-01-2011       1   0     1   4    False        6           1   \n",
      "\n",
      "   temp  Unnamed: 0   atemp   hum  windspeed  casual  registered  cnt  \n",
      "0  0.24           0  0.2879  0.81        0.0       3          13   16  \n",
      "1  0.22           1  0.2727  0.80        0.0       8          32   40  \n",
      "2  0.22           2  0.2727  0.80        0.0       5          27   32  \n",
      "3  0.24           3  0.2879  0.75        0.0       3          10   13  \n",
      "4  0.24           4  0.2879  0.75        0.0       0           1    1  \n"
     ]
    }
   ],
   "source": [
    "#check data frame of the output_dataset after dropping the unnecessary columns\n",
    "print(output_dataset.head())"
   ]
  },
  {
   "cell_type": "code",
   "execution_count": 42,
   "metadata": {},
   "outputs": [
    {
     "name": "stdout",
     "output_type": "stream",
     "text": [
      "Number of rows: 610\n",
      "Number of columns: 17\n"
     ]
    }
   ],
   "source": [
    "#check the dimensions of the dataset\n",
    "rows, columns = output_dataset.shape\n",
    "print(f\"Number of rows: {rows}\")\n",
    "print(f\"Number of columns: {columns}\") "
   ]
  },
  {
   "cell_type": "code",
   "execution_count": 43,
   "metadata": {},
   "outputs": [
    {
     "name": "stdout",
     "output_type": "stream",
     "text": [
      "instant         int64\n",
      "dteday         object\n",
      "season          int64\n",
      "yr              int64\n",
      "mnth            int64\n",
      "hr              int64\n",
      "holiday          bool\n",
      "weekday         int64\n",
      "weathersit      int64\n",
      "temp          float64\n",
      "Unnamed: 0      int64\n",
      "atemp         float64\n",
      "hum           float64\n",
      "windspeed     float64\n",
      "casual          int64\n",
      "registered      int64\n",
      "cnt             int64\n",
      "dtype: object\n"
     ]
    }
   ],
   "source": [
    "#check the datatype of the dataset\n",
    "data_types = output_dataset.dtypes\n",
    "print(data_types)"
   ]
  },
  {
   "cell_type": "code",
   "execution_count": 44,
   "metadata": {},
   "outputs": [
    {
     "name": "stdout",
     "output_type": "stream",
     "text": [
      "<class 'pandas.core.frame.DataFrame'>\n",
      "RangeIndex: 610 entries, 0 to 609\n",
      "Data columns (total 17 columns):\n",
      " #   Column      Non-Null Count  Dtype  \n",
      "---  ------      --------------  -----  \n",
      " 0   instant     610 non-null    int64  \n",
      " 1   dteday      610 non-null    object \n",
      " 2   season      610 non-null    int64  \n",
      " 3   yr          610 non-null    int64  \n",
      " 4   mnth        610 non-null    int64  \n",
      " 5   hr          610 non-null    int64  \n",
      " 6   holiday     610 non-null    bool   \n",
      " 7   weekday     610 non-null    int64  \n",
      " 8   weathersit  610 non-null    int64  \n",
      " 9   temp        610 non-null    float64\n",
      " 10  Unnamed: 0  610 non-null    int64  \n",
      " 11  atemp       599 non-null    float64\n",
      " 12  hum         610 non-null    float64\n",
      " 13  windspeed   610 non-null    float64\n",
      " 14  casual      610 non-null    int64  \n",
      " 15  registered  610 non-null    int64  \n",
      " 16  cnt         610 non-null    int64  \n",
      "dtypes: bool(1), float64(4), int64(11), object(1)\n",
      "memory usage: 77.0+ KB\n"
     ]
    }
   ],
   "source": [
    "#check datasype summary\n",
    "output_dataset.info()"
   ]
  },
  {
   "cell_type": "code",
   "execution_count": 45,
   "metadata": {},
   "outputs": [
    {
     "name": "stdout",
     "output_type": "stream",
     "text": [
      "Missing values in Columns\n",
      "atemp    11\n",
      "dtype: int64\n"
     ]
    }
   ],
   "source": [
    "#check for missing values in the merged dataset\n",
    "missing_values = output_dataset.isnull().sum()\n",
    "\n",
    "#display the columns with missing values and their respective counts\n",
    "print(\"Missing values in Columns\")\n",
    "print(missing_values[missing_values > 0]) "
   ]
  },
  {
   "cell_type": "code",
   "execution_count": 46,
   "metadata": {},
   "outputs": [],
   "source": [
    "#remove rows with missing values\n",
    "output_dataset.dropna(axis=0, inplace=True)\n",
    "\n",
    "#remove columns with missing values\n",
    "output_dataset.dropna(axis=1, inplace=True)"
   ]
  },
  {
   "cell_type": "code",
   "execution_count": 47,
   "metadata": {},
   "outputs": [
    {
     "name": "stdout",
     "output_type": "stream",
     "text": [
      "   instant      dteday  season  yr  mnth  hr  holiday  weekday  weathersit  \\\n",
      "0        1  01-01-2011       1   0     1   0    False        6           1   \n",
      "1        2  01-01-2011       1   0     1   1    False        6           1   \n",
      "2        3  01-01-2011       1   0     1   2    False        6           1   \n",
      "3        4  01-01-2011       1   0     1   3    False        6           1   \n",
      "4        5  01-01-2011       1   0     1   4    False        6           1   \n",
      "\n",
      "   temp  Unnamed: 0   atemp   hum  windspeed  casual  registered  cnt  \n",
      "0  0.24           0  0.2879  0.81        0.0       3          13   16  \n",
      "1  0.22           1  0.2727  0.80        0.0       8          32   40  \n",
      "2  0.22           2  0.2727  0.80        0.0       5          27   32  \n",
      "3  0.24           3  0.2879  0.75        0.0       3          10   13  \n",
      "4  0.24           4  0.2879  0.75        0.0       0           1    1  \n"
     ]
    }
   ],
   "source": [
    "#check data frame of the output_dataset after treating the missing values\n",
    "print(output_dataset.head())"
   ]
  },
  {
   "cell_type": "code",
   "execution_count": 48,
   "metadata": {},
   "outputs": [
    {
     "name": "stdout",
     "output_type": "stream",
     "text": [
      "<class 'pandas.core.frame.DataFrame'>\n",
      "Index: 599 entries, 0 to 609\n",
      "Data columns (total 17 columns):\n",
      " #   Column      Non-Null Count  Dtype  \n",
      "---  ------      --------------  -----  \n",
      " 0   instant     599 non-null    int64  \n",
      " 1   dteday      599 non-null    object \n",
      " 2   season      599 non-null    int64  \n",
      " 3   yr          599 non-null    int64  \n",
      " 4   mnth        599 non-null    int64  \n",
      " 5   hr          599 non-null    int64  \n",
      " 6   holiday     599 non-null    bool   \n",
      " 7   weekday     599 non-null    int64  \n",
      " 8   weathersit  599 non-null    int64  \n",
      " 9   temp        599 non-null    float64\n",
      " 10  Unnamed: 0  599 non-null    int64  \n",
      " 11  atemp       599 non-null    float64\n",
      " 12  hum         599 non-null    float64\n",
      " 13  windspeed   599 non-null    float64\n",
      " 14  casual      599 non-null    int64  \n",
      " 15  registered  599 non-null    int64  \n",
      " 16  cnt         599 non-null    int64  \n",
      "dtypes: bool(1), float64(4), int64(11), object(1)\n",
      "memory usage: 80.1+ KB\n"
     ]
    }
   ],
   "source": [
    "#check datasype summary\n",
    "output_dataset.info()"
   ]
  },
  {
   "cell_type": "code",
   "execution_count": 12,
   "metadata": {},
   "outputs": [],
   "source": [
    "#Acquisition of dataset_3\n",
    "dataset_3 = pd.read_csv('dataset_3.csv')"
   ]
  },
  {
   "cell_type": "code",
   "execution_count": 7,
   "id": "9aba5209",
   "metadata": {},
   "outputs": [
    {
     "data": {
      "text/html": [
       "<div>\n",
       "<style scoped>\n",
       "    .dataframe tbody tr th:only-of-type {\n",
       "        vertical-align: middle;\n",
       "    }\n",
       "\n",
       "    .dataframe tbody tr th {\n",
       "        vertical-align: top;\n",
       "    }\n",
       "\n",
       "    .dataframe thead th {\n",
       "        text-align: right;\n",
       "    }\n",
       "</style>\n",
       "<table border=\"1\" class=\"dataframe\">\n",
       "  <thead>\n",
       "    <tr style=\"text-align: right;\">\n",
       "      <th></th>\n",
       "      <th>instant</th>\n",
       "      <th>dteday</th>\n",
       "      <th>season</th>\n",
       "      <th>yr</th>\n",
       "      <th>mnth</th>\n",
       "      <th>hr</th>\n",
       "      <th>holiday</th>\n",
       "      <th>weekday</th>\n",
       "      <th>weathersit</th>\n",
       "      <th>temp</th>\n",
       "      <th>atemp</th>\n",
       "      <th>hum</th>\n",
       "      <th>windspeed</th>\n",
       "      <th>casual</th>\n",
       "      <th>registered</th>\n",
       "      <th>cnt</th>\n",
       "    </tr>\n",
       "  </thead>\n",
       "  <tbody>\n",
       "    <tr>\n",
       "      <th>0</th>\n",
       "      <td>620</td>\n",
       "      <td>29-01-2011</td>\n",
       "      <td>1</td>\n",
       "      <td>0</td>\n",
       "      <td>1</td>\n",
       "      <td>1</td>\n",
       "      <td>False</td>\n",
       "      <td>6</td>\n",
       "      <td>1</td>\n",
       "      <td>0.22</td>\n",
       "      <td>0.2273</td>\n",
       "      <td>0.64</td>\n",
       "      <td>0.1940</td>\n",
       "      <td>0</td>\n",
       "      <td>20</td>\n",
       "      <td>20</td>\n",
       "    </tr>\n",
       "    <tr>\n",
       "      <th>1</th>\n",
       "      <td>621</td>\n",
       "      <td>29-01-2011</td>\n",
       "      <td>1</td>\n",
       "      <td>0</td>\n",
       "      <td>1</td>\n",
       "      <td>2</td>\n",
       "      <td>False</td>\n",
       "      <td>6</td>\n",
       "      <td>1</td>\n",
       "      <td>0.22</td>\n",
       "      <td>0.2273</td>\n",
       "      <td>0.64</td>\n",
       "      <td>0.1642</td>\n",
       "      <td>0</td>\n",
       "      <td>15</td>\n",
       "      <td>15</td>\n",
       "    </tr>\n",
       "    <tr>\n",
       "      <th>2</th>\n",
       "      <td>622</td>\n",
       "      <td>29-01-2011</td>\n",
       "      <td>1</td>\n",
       "      <td>0</td>\n",
       "      <td>1</td>\n",
       "      <td>3</td>\n",
       "      <td>False</td>\n",
       "      <td>6</td>\n",
       "      <td>1</td>\n",
       "      <td>0.20</td>\n",
       "      <td>0.2121</td>\n",
       "      <td>0.64</td>\n",
       "      <td>0.1343</td>\n",
       "      <td>3</td>\n",
       "      <td>5</td>\n",
       "      <td>8</td>\n",
       "    </tr>\n",
       "    <tr>\n",
       "      <th>3</th>\n",
       "      <td>623</td>\n",
       "      <td>29-01-2011</td>\n",
       "      <td>1</td>\n",
       "      <td>0</td>\n",
       "      <td>1</td>\n",
       "      <td>4</td>\n",
       "      <td>False</td>\n",
       "      <td>6</td>\n",
       "      <td>1</td>\n",
       "      <td>0.16</td>\n",
       "      <td>0.1818</td>\n",
       "      <td>0.69</td>\n",
       "      <td>0.1045</td>\n",
       "      <td>1</td>\n",
       "      <td>2</td>\n",
       "      <td>3</td>\n",
       "    </tr>\n",
       "    <tr>\n",
       "      <th>4</th>\n",
       "      <td>624</td>\n",
       "      <td>29-01-2011</td>\n",
       "      <td>1</td>\n",
       "      <td>0</td>\n",
       "      <td>1</td>\n",
       "      <td>6</td>\n",
       "      <td>False</td>\n",
       "      <td>6</td>\n",
       "      <td>1</td>\n",
       "      <td>0.16</td>\n",
       "      <td>0.1818</td>\n",
       "      <td>0.64</td>\n",
       "      <td>0.1343</td>\n",
       "      <td>0</td>\n",
       "      <td>2</td>\n",
       "      <td>2</td>\n",
       "    </tr>\n",
       "  </tbody>\n",
       "</table>\n",
       "</div>"
      ],
      "text/plain": [
       "   instant      dteday  season  yr  mnth  hr  holiday  weekday  weathersit  \\\n",
       "0      620  29-01-2011       1   0     1   1    False        6           1   \n",
       "1      621  29-01-2011       1   0     1   2    False        6           1   \n",
       "2      622  29-01-2011       1   0     1   3    False        6           1   \n",
       "3      623  29-01-2011       1   0     1   4    False        6           1   \n",
       "4      624  29-01-2011       1   0     1   6    False        6           1   \n",
       "\n",
       "   temp   atemp   hum  windspeed  casual  registered  cnt  \n",
       "0  0.22  0.2273  0.64     0.1940       0          20   20  \n",
       "1  0.22  0.2273  0.64     0.1642       0          15   15  \n",
       "2  0.20  0.2121  0.64     0.1343       3           5    8  \n",
       "3  0.16  0.1818  0.69     0.1045       1           2    3  \n",
       "4  0.16  0.1818  0.64     0.1343       0           2    2  "
      ]
     },
     "execution_count": 7,
     "metadata": {},
     "output_type": "execute_result"
    }
   ],
   "source": [
    "#print head of dataset_3\n",
    "dataset_3.head()"
   ]
  },
  {
   "cell_type": "code",
   "execution_count": 9,
   "id": "e0082882",
   "metadata": {},
   "outputs": [
    {
     "name": "stdout",
     "output_type": "stream",
     "text": [
      "Number of rows: 390\n",
      "Number of columns: 16\n"
     ]
    }
   ],
   "source": [
    "#print the number of rows and columns of dataset_3\n",
    "num_rows, num_cols = dataset_3.shape\n",
    "print(f\"Number of rows: {num_rows}\")\n",
    "print(f\"Number of columns: {num_cols}\")"
   ]
  },
  {
   "cell_type": "code",
   "execution_count": 10,
   "id": "6fc51e39",
   "metadata": {},
   "outputs": [
    {
     "data": {
      "text/plain": [
       "instant       0\n",
       "dteday        0\n",
       "season        0\n",
       "yr            0\n",
       "mnth          0\n",
       "hr            0\n",
       "holiday       0\n",
       "weekday       0\n",
       "weathersit    0\n",
       "temp          0\n",
       "atemp         0\n",
       "hum           0\n",
       "windspeed     0\n",
       "casual        0\n",
       "registered    0\n",
       "cnt           0\n",
       "dtype: int64"
      ]
     },
     "execution_count": 10,
     "metadata": {},
     "output_type": "execute_result"
    }
   ],
   "source": [
    "#identify the nul values in dataset_3\n",
    "dataset_3.isnull().sum()"
   ]
  },
  {
   "cell_type": "code",
   "execution_count": 12,
   "id": "4974541a",
   "metadata": {},
   "outputs": [
    {
     "name": "stdout",
     "output_type": "stream",
     "text": [
      "<class 'pandas.core.frame.DataFrame'>\n",
      "RangeIndex: 390 entries, 0 to 389\n",
      "Data columns (total 16 columns):\n",
      " #   Column      Non-Null Count  Dtype  \n",
      "---  ------      --------------  -----  \n",
      " 0   instant     390 non-null    int64  \n",
      " 1   dteday      390 non-null    object \n",
      " 2   season      390 non-null    int64  \n",
      " 3   yr          390 non-null    int64  \n",
      " 4   mnth        390 non-null    int64  \n",
      " 5   hr          390 non-null    int64  \n",
      " 6   holiday     390 non-null    bool   \n",
      " 7   weekday     390 non-null    int64  \n",
      " 8   weathersit  390 non-null    int64  \n",
      " 9   temp        390 non-null    float64\n",
      " 10  atemp       390 non-null    float64\n",
      " 11  hum         390 non-null    float64\n",
      " 12  windspeed   390 non-null    float64\n",
      " 13  casual      390 non-null    int64  \n",
      " 14  registered  390 non-null    int64  \n",
      " 15  cnt         390 non-null    int64  \n",
      "dtypes: bool(1), float64(4), int64(10), object(1)\n",
      "memory usage: 46.2+ KB\n"
     ]
    }
   ],
   "source": [
    "#check datatype summary of datast_3\n",
    "dataset_3.info() "
   ]
  },
  {
   "cell_type": "code",
   "execution_count": 13,
   "id": "5d0f3da7",
   "metadata": {},
   "outputs": [
    {
     "name": "stdout",
     "output_type": "stream",
     "text": [
      "unique values in column 'instant' :\n",
      "[ 620  621  622  623  624  625  626  627  628  629  630  631  632  633\n",
      "  634  635  636  637  638  639  640  641  642  643  644  645  646  647\n",
      "  648  649  650  651  652  653  654  655  656  657  658  659  660  661\n",
      "  662  663  664  665  666  667  668  669  670  671  672  673  674  675\n",
      "  676  677  678  679  680  681  682  683  684  685  686  687  688  689\n",
      "  690  691  692  693  694  695  696  697  698  699  700  701  702  703\n",
      "  704  705  706  707  708  709  710  711  712  713  714  715  716  717\n",
      "  718  719  720  721  722  723  724  725  726  727  728  729  730  731\n",
      "  732  733  734  735  736  737  738  739  740  741  742  743  744  745\n",
      "  746  747  748  749  750  751  752  753  754  755  756  757  758  759\n",
      "  760  761  762  763  764  765  766  767  768  769  770  771  772  773\n",
      "  774  775  776  777  778  779  780  781  782  783  784  785  786  787\n",
      "  788  789  790  791  792  793  794  795  796  797  798  799  800  801\n",
      "  802  803  804  805  806  807  808  809  810  811  812  813  814  815\n",
      "  816  817  818  819  820  821  822  823  824  825  826  827  828  829\n",
      "  830  831  832  833  834  835  836  837  838  839  840  841  842  843\n",
      "  844  845  846  847  848  849  850  851  852  853  854  855  856  857\n",
      "  858  859  860  861  862  863  864  865  866  867  868  869  870  871\n",
      "  872  873  874  875  876  877  878  879  880  881  882  883  884  885\n",
      "  886  887  888  889  890  891  892  893  894  895  896  897  898  899\n",
      "  900  901  902  903  904  905  906  907  908  909  910  911  912  913\n",
      "  914  915  916  917  918  919  920  921  922  923  924  925  926  927\n",
      "  928  929  930  931  932  933  934  935  936  937  938  939  940  941\n",
      "  942  943  944  945  946  947  948  949  950  951  952  953  954  955\n",
      "  956  957  958  959  960  961  962  963  964  965  966  967  968  969\n",
      "  970  971  972  973  974  975  976  977  978  979  980  981  982  983\n",
      "  984  985  986  987  988  989  990  991  992  993  994  995  996  997\n",
      "  998  999 1000  611  612  613  614  615  616  617  618  619]\n",
      "\n",
      "unique values in column 'dteday' :\n",
      "['29-01-2011' '30-01-2011' '31-01-2011' '01-02-2011' '02-02-2011'\n",
      " '03-02-2011' '04-02-2011' '05-02-2011' '06-02-2011' '07-02-2011'\n",
      " '08-02-2011' '09-02-2011' '10-02-2011' '11-02-2011' '12-02-2011'\n",
      " '13-02-2011' '14-02-2011' '28-01-2011']\n",
      "\n",
      "unique values in column 'season' :\n",
      "[1]\n",
      "\n",
      "unique values in column 'yr' :\n",
      "[0]\n",
      "\n",
      "unique values in column 'mnth' :\n",
      "[1 2]\n",
      "\n",
      "unique values in column 'hr' :\n",
      "[ 1  2  3  4  6  7  8  9 10 11 12 13 14 15 16 17 18 19 20 21 22 23  0  5]\n",
      "\n",
      "unique values in column 'holiday' :\n",
      "[False]\n",
      "\n",
      "unique values in column 'weekday' :\n",
      "[6 0 1 2 3 4 5]\n",
      "\n",
      "unique values in column 'weathersit' :\n",
      "[1 2 3]\n",
      "\n",
      "unique values in column 'temp' :\n",
      "[0.22 0.2  0.16 0.18 0.24 0.14 0.3  0.28 0.26 0.34 0.38 0.36 0.32 0.12\n",
      " 0.1  0.08 0.06 0.4  0.42]\n",
      "\n",
      "unique values in column 'atemp' :\n",
      "[0.2273 0.2121 0.1818 0.197  0.2424 0.2879 0.2727 0.3182 0.303  0.3333\n",
      " 0.2576 0.1667 0.1364 0.1515 0.3939 0.1212 0.3636 0.3485 0.1061 0.0758\n",
      " 0.4091 0.4242]\n",
      "\n",
      "unique values in column 'hum' :\n",
      "[0.64 0.69 0.59 0.55 0.6  0.74 0.8  0.93 0.86 0.75 0.52 0.61 0.56 0.65\n",
      " 0.7  0.81 0.87 1.   0.82 0.76 0.71 0.53 0.42 0.45 0.48 0.47 0.44 0.4\n",
      " 0.43 0.5  0.37 0.51 0.63 0.49 0.46 0.62 0.57 0.54 0.66 0.38 0.32 0.35\n",
      " 0.33 0.36 0.39 0.34 0.29 0.27 0.25 0.26 0.28 0.31 0.68 0.73 0.21 0.24\n",
      " 0.41 0.3 ]\n",
      "\n",
      "unique values in column 'windspeed' :\n",
      "[0.194  0.1642 0.1343 0.1045 0.0896 0.2537 0.     0.2836 0.2239 0.3284\n",
      " 0.2985 0.3881 0.5224 0.5522 0.4925 0.4478 0.3582 0.4179 0.4627 0.5821]\n",
      "\n",
      "unique values in column 'casual' :\n",
      "[ 0  3  1  4 12  9 10 22 19  6  7 13 18 14  8  2  5 15 11 28 48 47 52 42\n",
      " 24 16 21 17 30 27 32 26 58 62 51 40]\n",
      "\n",
      "unique values in column 'registered' :\n",
      "[ 20  15   5   2   4  31  34  51  60  66  56  89  98  88  82  59  52  42\n",
      "  35  28  30  33  22  10   7   1   3  11  57  50  87  71 104  95  46  25\n",
      "  19  16   6   8  37 182 112  68  62  85  41  83 155 153 108  78  53 132\n",
      " 114  47  49  45  61 172 165 105  69  64   0  17  48 154 119  74 183 175\n",
      "  29  39  86 184 127  55  67  43  73 170 145  92  26 217 124  76  81  91\n",
      " 195 152 102  36  12   9  63  40  21  38 126 135 130 115  97  65  14 223\n",
      "  54 207 123  75 236 128  44  79 151 100 198  72 157 168  84  99 173 121\n",
      " 159 110  93  70  23 212 111 193  94  27  13 103  90 113 122 106  32  96\n",
      " 147 107]\n",
      "\n",
      "unique values in column 'cnt' :\n",
      "[ 20  15   8   3   2   5  34  55  64  78  65  99 120 107  91  68  58  43\n",
      "  36  32  33  29  11   1  12  38  59  97  84 122 109 123  77  28  21   7\n",
      "  37  72 185 112  69  48  54  86  44 161 156 111  56  17  22  52 135 116\n",
      "  47  51 176 168 108  74  16   4  18  49 155  61  75  63  76 103 190 182\n",
      "  40  39  87 188 133  60 175 147  96  41  13 220 127  82  90 205  71  46\n",
      "  31   9  10  83  45  23  89 117 174 157 121  26  27  62  30  95 230 118\n",
      "  66  50 114 216 128  88  25 100 243 152 101 199  79 166 170   6 178  35\n",
      "  80 165 160  14  24 140 110 125 211  53 145 137 105 154 162 134  98 149]\n",
      "\n"
     ]
    }
   ],
   "source": [
    "#display the unique values of the dataset_3\n",
    "for column in dataset_3.columns:\n",
    "    unique_values = dataset_3[column].unique()\n",
    "    print(f\"unique values in column '{column}' :\")\n",
    "    print(unique_values)\n",
    "    print()"
   ]
  },
  {
   "cell_type": "code",
   "execution_count": 14,
   "id": "6afd24c4",
   "metadata": {},
   "outputs": [],
   "source": [
    "#drop the unnecessary columns of dataset_3\n",
    "columns_to_drop = ['instant', 'dteday', 'casual', 'registered']\n",
    "dataset_3.drop(columns=columns_to_drop, inplace=True)"
   ]
  },
  {
   "cell_type": "code",
   "execution_count": 15,
   "id": "6d6acd66",
   "metadata": {},
   "outputs": [
    {
     "name": "stdout",
     "output_type": "stream",
     "text": [
      "   season  yr  mnth  hr  holiday  weekday  weathersit  temp   atemp   hum  \\\n",
      "0       1   0     1   1    False        6           1  0.22  0.2273  0.64   \n",
      "1       1   0     1   2    False        6           1  0.22  0.2273  0.64   \n",
      "2       1   0     1   3    False        6           1  0.20  0.2121  0.64   \n",
      "3       1   0     1   4    False        6           1  0.16  0.1818  0.69   \n",
      "4       1   0     1   6    False        6           1  0.16  0.1818  0.64   \n",
      "\n",
      "   windspeed  cnt  \n",
      "0     0.1940   20  \n",
      "1     0.1642   15  \n",
      "2     0.1343    8  \n",
      "3     0.1045    3  \n",
      "4     0.1343    2  \n"
     ]
    }
   ],
   "source": [
    "#check data frame of the dataset_3 after dropping the unnecessary columns\n",
    "print(dataset_3.head())"
   ]
  },
  {
   "cell_type": "code",
   "execution_count": 16,
   "id": "4373b128",
   "metadata": {},
   "outputs": [
    {
     "name": "stdout",
     "output_type": "stream",
     "text": [
      "Number of rows: 390\n",
      "Number of columns: 12\n"
     ]
    }
   ],
   "source": [
    "#check the dimensions of the dataset_3\n",
    "rows, columns = dataset_3.shape\n",
    "print(f\"Number of rows: {rows}\")\n",
    "print(f\"Number of columns: {columns}\") "
   ]
  },
  {
   "cell_type": "code",
   "execution_count": 17,
   "id": "9ea7f3e3",
   "metadata": {},
   "outputs": [
    {
     "name": "stdout",
     "output_type": "stream",
     "text": [
      "season          int64\n",
      "yr              int64\n",
      "mnth            int64\n",
      "hr              int64\n",
      "holiday          bool\n",
      "weekday         int64\n",
      "weathersit      int64\n",
      "temp          float64\n",
      "atemp         float64\n",
      "hum           float64\n",
      "windspeed     float64\n",
      "cnt             int64\n",
      "dtype: object\n"
     ]
    }
   ],
   "source": [
    "#check datatype of dataset_3\n",
    "data_types = dataset_3.dtypes\n",
    "print(data_types)"
   ]
  },
  {
   "cell_type": "code",
   "execution_count": 18,
   "id": "d76d0581",
   "metadata": {},
   "outputs": [
    {
     "name": "stdout",
     "output_type": "stream",
     "text": [
      "<class 'pandas.core.frame.DataFrame'>\n",
      "RangeIndex: 390 entries, 0 to 389\n",
      "Data columns (total 12 columns):\n",
      " #   Column      Non-Null Count  Dtype  \n",
      "---  ------      --------------  -----  \n",
      " 0   season      390 non-null    int64  \n",
      " 1   yr          390 non-null    int64  \n",
      " 2   mnth        390 non-null    int64  \n",
      " 3   hr          390 non-null    int64  \n",
      " 4   holiday     390 non-null    bool   \n",
      " 5   weekday     390 non-null    int64  \n",
      " 6   weathersit  390 non-null    int64  \n",
      " 7   temp        390 non-null    float64\n",
      " 8   atemp       390 non-null    float64\n",
      " 9   hum         390 non-null    float64\n",
      " 10  windspeed   390 non-null    float64\n",
      " 11  cnt         390 non-null    int64  \n",
      "dtypes: bool(1), float64(4), int64(7)\n",
      "memory usage: 34.0 KB\n"
     ]
    }
   ],
   "source": [
    "#check datatype summary of dataset_3\n",
    "dataset_3.info()"
   ]
  },
  {
   "cell_type": "code",
   "execution_count": 19,
   "id": "181cf13c",
   "metadata": {},
   "outputs": [
    {
     "name": "stdout",
     "output_type": "stream",
     "text": [
      "Missing values in Columns\n",
      "Series([], dtype: int64)\n"
     ]
    }
   ],
   "source": [
    "#check for missing values in the dataset_3\n",
    "missing_values = dataset_3.isnull().sum()\n",
    "\n",
    "#display the columns with missing values and their respective counts\n",
    "print(\"Missing values in Columns\")\n",
    "print(missing_values[missing_values > 0]) "
   ]
  },
  {
   "cell_type": "code",
   "execution_count": 13,
   "id": "0b3dea52",
   "metadata": {},
   "outputs": [
    {
     "name": "stdout",
     "output_type": "stream",
     "text": [
      "     instant      dteday  season  yr  mnth  hr  holiday  weekday  weathersit  \\\n",
      "0          1  01-01-2011       1   0     1   0    False        6           1   \n",
      "1          2  01-01-2011       1   0     1   1    False        6           1   \n",
      "2          3  01-01-2011       1   0     1   2    False        6           1   \n",
      "3          4  01-01-2011       1   0     1   3    False        6           1   \n",
      "4          5  01-01-2011       1   0     1   4    False        6           1   \n",
      "..       ...         ...     ...  ..   ...  ..      ...      ...         ...   \n",
      "605      606  28-01-2011       1   0     1  11    False        5           3   \n",
      "606      607  28-01-2011       1   0     1  12    False        5           3   \n",
      "607      608  28-01-2011       1   0     1  13    False        5           3   \n",
      "608      609  28-01-2011       1   0     1  14    False        5           3   \n",
      "609      610  28-01-2011       1   0     1  15    False        5           2   \n",
      "\n",
      "     temp  ...  holiday  weekday  weathersit  temp   atemp   hum  windspeed  \\\n",
      "0    0.24  ...    False      6.0         1.0  0.22  0.2273  0.64     0.1940   \n",
      "1    0.22  ...    False      6.0         1.0  0.22  0.2273  0.64     0.1642   \n",
      "2    0.22  ...    False      6.0         1.0  0.20  0.2121  0.64     0.1343   \n",
      "3    0.24  ...    False      6.0         1.0  0.16  0.1818  0.69     0.1045   \n",
      "4    0.24  ...    False      6.0         1.0  0.16  0.1818  0.64     0.1343   \n",
      "..    ...  ...      ...      ...         ...   ...     ...   ...        ...   \n",
      "605  0.18  ...      NaN      NaN         NaN   NaN     NaN   NaN        NaN   \n",
      "606  0.18  ...      NaN      NaN         NaN   NaN     NaN   NaN        NaN   \n",
      "607  0.18  ...      NaN      NaN         NaN   NaN     NaN   NaN        NaN   \n",
      "608  0.22  ...      NaN      NaN         NaN   NaN     NaN   NaN        NaN   \n",
      "609  0.20  ...      NaN      NaN         NaN   NaN     NaN   NaN        NaN   \n",
      "\n",
      "     casual registered   cnt  \n",
      "0       0.0       20.0  20.0  \n",
      "1       0.0       15.0  15.0  \n",
      "2       3.0        5.0   8.0  \n",
      "3       1.0        2.0   3.0  \n",
      "4       0.0        2.0   2.0  \n",
      "..      ...        ...   ...  \n",
      "605     NaN        NaN   NaN  \n",
      "606     NaN        NaN   NaN  \n",
      "607     NaN        NaN   NaN  \n",
      "608     NaN        NaN   NaN  \n",
      "609     NaN        NaN   NaN  \n",
      "\n",
      "[610 rows x 33 columns]\n"
     ]
    }
   ],
   "source": [
    "#concatenate columns output_dataset with dataset_3\n",
    "concatenated_data = pd.concat([output_dataset, dataset_3], axis=1)\n",
    "print(concatenated_data)"
   ]
  },
  {
   "cell_type": "code",
   "execution_count": 53,
   "id": "c9adbaaa",
   "metadata": {},
   "outputs": [
    {
     "name": "stdout",
     "output_type": "stream",
     "text": [
      "Missing values in Columns\n",
      "Series([], dtype: int64)\n"
     ]
    }
   ],
   "source": [
    "#identify the missing valuse in the concatenated date\n",
    "Concatenated_missing_values = concatenated_data.isnull().sum()\n",
    "\n",
    "#display the columns with missing values and their respective counts\n",
    "print(\"Missing values in Columns\")\n",
    "print(Concatenated_missing_values[Concatenated_missing_values > 0])"
   ]
  },
  {
   "cell_type": "code",
   "execution_count": 54,
   "id": "65c88cdd",
   "metadata": {},
   "outputs": [
    {
     "name": "stdout",
     "output_type": "stream",
     "text": [
      "Skewness of each column:\n",
      "season        0.000000\n",
      "yr            0.000000\n",
      "mnth          0.795391\n",
      "hr           -0.062397\n",
      "holiday       6.192697\n",
      "weekday       0.013455\n",
      "weathersit    1.046993\n",
      "temp          0.506471\n",
      "atemp         0.428564\n",
      "hum           0.443215\n",
      "windspeed     0.440728\n",
      "cnt           1.128871\n",
      "dtype: float64\n"
     ]
    }
   ],
   "source": [
    "#check the skewness of concatenated data\n",
    "skewness_values = concatenated_data.skew()\n",
    "print(\"Skewness of each column:\")\n",
    "print(skewness_values)"
   ]
  },
  {
   "cell_type": "code",
   "execution_count": 56,
   "id": "ddcb83ce",
   "metadata": {},
   "outputs": [
    {
     "name": "stdout",
     "output_type": "stream",
     "text": [
      "Correlation_data\n",
      "            season  yr      mnth        hr   holiday   weekday  weathersit  \\\n",
      "season         NaN NaN       NaN       NaN       NaN       NaN         NaN   \n",
      "yr             NaN NaN       NaN       NaN       NaN       NaN         NaN   \n",
      "mnth           NaN NaN  1.000000 -0.025912 -0.107059  0.031874    0.014936   \n",
      "hr             NaN NaN -0.025912  1.000000 -0.005799  0.003947   -0.058891   \n",
      "holiday        NaN NaN -0.107059 -0.005799  1.000000 -0.150759    0.166583   \n",
      "weekday        NaN NaN  0.031874  0.003947 -0.150759  1.000000    0.061768   \n",
      "weathersit     NaN NaN  0.014936 -0.058891  0.166583  0.061768    1.000000   \n",
      "temp           NaN NaN  0.173787  0.203070 -0.058576 -0.081402    0.095657   \n",
      "atemp          NaN NaN  0.191557  0.149535 -0.072382 -0.052852    0.137934   \n",
      "hum            NaN NaN  0.069794 -0.197701 -0.037212  0.059423    0.537255   \n",
      "windspeed      NaN NaN -0.027906  0.116094 -0.000724 -0.054037   -0.180310   \n",
      "cnt            NaN NaN  0.077864  0.365444 -0.052298  0.008736   -0.128829   \n",
      "\n",
      "                temp     atemp       hum  windspeed       cnt  \n",
      "season           NaN       NaN       NaN        NaN       NaN  \n",
      "yr               NaN       NaN       NaN        NaN       NaN  \n",
      "mnth        0.173787  0.191557  0.069794  -0.027906  0.077864  \n",
      "hr          0.203070  0.149535 -0.197701   0.116094  0.365444  \n",
      "holiday    -0.058576 -0.072382 -0.037212  -0.000724 -0.052298  \n",
      "weekday    -0.081402 -0.052852  0.059423  -0.054037  0.008736  \n",
      "weathersit  0.095657  0.137934  0.537255  -0.180310 -0.128829  \n",
      "temp        1.000000  0.931498  0.064699   0.119020  0.241401  \n",
      "atemp       0.931498  1.000000  0.194409  -0.212771  0.192994  \n",
      "hum         0.064699  0.194409  1.000000  -0.388162 -0.254562  \n",
      "windspeed   0.119020 -0.212771 -0.388162   1.000000  0.105628  \n",
      "cnt         0.241401  0.192994 -0.254562   0.105628  1.000000  \n"
     ]
    }
   ],
   "source": [
    "#perform correlation analysis\n",
    "correlation_data = concatenated_data.corr()\n",
    "print(\"Correlation_data\")\n",
    "print(correlation_data) "
   ]
  },
  {
   "cell_type": "code",
   "execution_count": 16,
   "id": "eac74485",
   "metadata": {},
   "outputs": [],
   "source": [
    "#save a .csv file of the concatenated_data in the folder\n",
    "concatenated_data.to_csv('D:\\Data_Science_Internship\\Project1final/final_result.csv', index=False)"
   ]
  },
  {
   "cell_type": "code",
   "execution_count": null,
   "id": "21e2dba9",
   "metadata": {},
   "outputs": [],
   "source": []
  }
 ],
 "metadata": {
  "kernelspec": {
   "display_name": "Python 3 (ipykernel)",
   "language": "python",
   "name": "python3"
  },
  "language_info": {
   "codemirror_mode": {
    "name": "ipython",
    "version": 3
   },
   "file_extension": ".py",
   "mimetype": "text/x-python",
   "name": "python",
   "nbconvert_exporter": "python",
   "pygments_lexer": "ipython3",
   "version": "3.11.5"
  }
 },
 "nbformat": 4,
 "nbformat_minor": 5
}
